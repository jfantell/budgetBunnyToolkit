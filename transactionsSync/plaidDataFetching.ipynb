{
 "cells": [
  {
   "cell_type": "code",
   "execution_count": null,
   "id": "0a84f9fe-eb5b-40aa-bd5c-3e726d96dab5",
   "metadata": {},
   "outputs": [],
   "source": [
    "from dotenv import load_dotenv\n",
    "# Load environmental variables\n",
    "load_dotenv('../.env')\n",
    "\n",
    "import pandas as pd\n",
    "import plaid\n",
    "from plaid.api import plaid_api\n",
    "from plaid.model.transactions_get_request import TransactionsGetRequest\n",
    "from plaid.model.transactions_get_request_options import TransactionsGetRequestOptions\n",
    "from datetime import datetime\n",
    "import json\n",
    "import os\n",
    "from dataScripts.dataAcquisition import getAccountsForUsername"
   ]
  },
  {
   "cell_type": "code",
   "execution_count": null,
   "id": "d1d2494e-5400-42a7-a467-4347d9ddb4a2",
   "metadata": {},
   "outputs": [],
   "source": [
    "clientId = os.getenv('PLAID_CLIENTID')\n",
    "secret = os.getenv('PLAID_SECRET')\n",
    "username = os.getenv('SAMPLE_USERNAME')"
   ]
  },
  {
   "cell_type": "code",
   "execution_count": null,
   "id": "b5b738e4",
   "metadata": {},
   "outputs": [],
   "source": [
    "accountRecords = getAccountsForUsername(username)\n",
    "accountRecord = accountRecords[0]\n",
    "accountRecord"
   ]
  },
  {
   "cell_type": "code",
   "execution_count": null,
   "id": "3faf04fc",
   "metadata": {},
   "outputs": [],
   "source": [
    "accessToken = accountRecord['PlaidAccessCode']"
   ]
  },
  {
   "cell_type": "code",
   "execution_count": null,
   "id": "41f51598-78c5-4221-80b6-ec76ff747b69",
   "metadata": {},
   "outputs": [],
   "source": [
    "# Available environments are\n",
    "# 'Production'\n",
    "# 'Development'\n",
    "# 'Sandbox'\n",
    "configuration = plaid.Configuration(\n",
    "    host=plaid.Environment.Development,\n",
    "    api_key={\n",
    "        'clientId': clientId,\n",
    "        'secret': secret,\n",
    "    }\n",
    ")\n",
    "api_client = plaid.ApiClient(configuration)\n",
    "client = plaid_api.PlaidApi(api_client)"
   ]
  },
  {
   "cell_type": "code",
   "execution_count": null,
   "id": "06054767-f27b-44e3-93af-f57ab130d7b2",
   "metadata": {},
   "outputs": [],
   "source": [
    "request = TransactionsGetRequest(\n",
    "            access_token=accessToken,\n",
    "            start_date=datetime.strptime('2023-01-01', '%Y-%m-%d').date(),\n",
    "            end_date=datetime.strptime('2024-01-01', '%Y-%m-%d').date(),\n",
    "            options=TransactionsGetRequestOptions()\n",
    ")\n",
    "response = client.transactions_get(request)\n",
    "transactions = response['transactions']\n",
    "\n",
    "# # Manipulate the count and offset parameters to paginate\n",
    "# # transactions and retrieve all available data\n",
    "# while len(transactions) < response['total_transactions']:\n",
    "#     request = TransactionsGetRequest(\n",
    "#                 access_token=access_token,\n",
    "#                 start_date=datetime.strptime('2020-01-01', '%Y-%m-%d').date(),\n",
    "#                 end_date=datetime.strptime('2023-01-01', '%Y-%m-%d').date(),\n",
    "#                 options=TransactionsGetRequestOptions(\n",
    "#                 offset=len(transactions)\n",
    "#             )\n",
    "#     )\n",
    "#     response = client.transactions_get(request)\n",
    "#     transactions.extend(response['transactions'])"
   ]
  },
  {
   "cell_type": "code",
   "execution_count": null,
   "id": "01dae3ae-5c35-4af6-b673-382e6d1c0274",
   "metadata": {},
   "outputs": [],
   "source": [
    "len(transactions)"
   ]
  },
  {
   "cell_type": "code",
   "execution_count": null,
   "id": "58dc2de2-65cd-4a4e-b192-05e23142d080",
   "metadata": {},
   "outputs": [],
   "source": [
    "transactions_dict_list = []\n",
    "for tx in transactions:\n",
    "    transactions_dict_list.append(tx.to_dict())"
   ]
  },
  {
   "cell_type": "code",
   "execution_count": null,
   "id": "9da76f24-20b1-4a86-a3a0-a6eaf033c5cc",
   "metadata": {},
   "outputs": [],
   "source": [
    "# the json file where the output must be stored\n",
    "transactions_json = 'debug_transactions.json'\n",
    "out_file = open(transactions_json, \"w\")\n",
    "json.dump(transactions_dict_list, out_file, default=str)\n",
    "out_file.close()"
   ]
  },
  {
   "cell_type": "code",
   "execution_count": null,
   "id": "ff1c5e91-d728-4aa3-b32f-1e123d9b79bb",
   "metadata": {},
   "outputs": [],
   "source": [
    "transactions_dict_list[0]"
   ]
  },
  {
   "cell_type": "code",
   "execution_count": null,
   "id": "4dcdc0f8-65e4-4268-b636-8a04e4fc0ee7",
   "metadata": {},
   "outputs": [],
   "source": [
    "transactions_df = pd.DataFrame.from_dict(transactions_dict_list)"
   ]
  },
  {
   "cell_type": "code",
   "execution_count": null,
   "id": "ecc2b5c6-ba5b-4807-8438-3d8bf074e86b",
   "metadata": {},
   "outputs": [],
   "source": [
    "transactions_df.head(5)"
   ]
  }
 ],
 "metadata": {
  "kernelspec": {
   "display_name": "Python 3.10.6 64-bit",
   "language": "python",
   "name": "python3"
  },
  "language_info": {
   "codemirror_mode": {
    "name": "ipython",
    "version": 3
   },
   "file_extension": ".py",
   "mimetype": "text/x-python",
   "name": "python",
   "nbconvert_exporter": "python",
   "pygments_lexer": "ipython3",
   "version": "3.10.6"
  },
  "vscode": {
   "interpreter": {
    "hash": "916dbcbb3f70747c44a77c7bcd40155683ae19c65e1c03b4aa3499c5328201f1"
   }
  }
 },
 "nbformat": 4,
 "nbformat_minor": 5
}
